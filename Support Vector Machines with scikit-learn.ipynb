{
    "cells": [
        {
            "cell_type": "code",
            "execution_count": null,
            "source": [
                "print('hello world')"
            ],
            "outputs": [],
            "metadata": {}
        }
    ],
    "metadata": {
        "orig_nbformat": 4,
        "language_info": {
            "name": "python",
            "version": "3.9.6",
            "mimetype": "text/x-python",
            "codemirror_mode": {
                "name": "ipython",
                "version": 3
            },
            "pygments_lexer": "ipython3",
            "nbconvert_exporter": "python",
            "file_extension": ".py"
        },
        "kernelspec": {
            "name": "python3",
            "display_name": "Python 3.9.6 64-bit"
        },
        "interpreter": {
            "hash": "8911d7146e330161032aa1df6d674ddf3ceaa6e7adf35b2d6388f1ff9a99bf1d"
        }
    },
    "nbformat": 4,
    "nbformat_minor": 2
}